{
  "nbformat": 4,
  "nbformat_minor": 0,
  "metadata": {
    "colab": {
      "provenance": [],
      "authorship_tag": "ABX9TyP3dzQXVipXpB5yO6E3E2oV",
      "include_colab_link": true
    },
    "kernelspec": {
      "name": "python3",
      "display_name": "Python 3"
    },
    "language_info": {
      "name": "python"
    }
  },
  "cells": [
    {
      "cell_type": "markdown",
      "metadata": {
        "id": "view-in-github",
        "colab_type": "text"
      },
      "source": [
        "<a href=\"https://colab.research.google.com/github/LeanMBG/coder_ds/blob/main/VisualizacionBarbera.ipynb\" target=\"_parent\"><img src=\"https://colab.research.google.com/assets/colab-badge.svg\" alt=\"Open In Colab\"/></a>"
      ]
    },
    {
      "cell_type": "markdown",
      "source": [
        "**Data Science I CoderHouse**  - **Comisión 61690**"
      ],
      "metadata": {
        "id": "yk89BphA-s0s"
      }
    },
    {
      "cell_type": "markdown",
      "source": [
        "Alumno: Leandro M. Barbera"
      ],
      "metadata": {
        "id": "rUAMkYns_GEa"
      }
    },
    {
      "cell_type": "markdown",
      "source": [
        "##Introducción\n",
        "El análisis y predicción de las decisiones de los clientes en campañas de marketing es crucial para mejorar la efectividad de las estrategias utilizadas publicitariamente en el sector bancario. El éxito de una campaña de marketing depende en gran parte de identificar a los clientes que tienen una mayor posibilidad de responder positivamente a una oferta. El presente trabajo se enfoca en explorar un conjunto de datos relacionado con campañas de marketing telefónicas realizadas por una entidad bancaria para predecir si los clientes contratarán o no un servicio de depósito a plazo fijo, utilizando diversos atributos socioeconómicos y conductuales."
      ],
      "metadata": {
        "id": "mccpcARH8QaV"
      }
    },
    {
      "cell_type": "markdown",
      "source": [
        "##Descripción del Problema\n",
        "Las campañas de marketing dirigidas a clientes existentes representan una inversión importante para las entidades financieras, pero a menudo tienen una baja tasa de éxito. Para maximizar el retorno de estas inversiones, es fundamental identificar los factores que influyen en la decisión de los clientes de aceptar o rechazar las ofertas bancarias. Este análisis permite a las instituciones financieras optimizar sus campañas y dirigirlas a aquellos clientes con mayor probabilidad de conversión. Por lo tanto, es esencial explorar los datos disponibles, comprender las tendencias y patrones, y desarrollar modelos predictivos que ayuden a mejorar la eficiencia de las campañas.\n",
        "\n",
        "##Objetivo\n",
        "El objetivo principal de este trabajo es construir un modelo de clasificación que pueda predecir si un cliente aceptará un depósito a plazo fijo tras una campaña de marketing telefónica. Para alcanzar este objetivo, se realizará un análisis exploratorio de los datos proporcionados, se identificará la influencia de diferentes características socioeconómicas y comportamentales sobre la decisión del cliente, y se construirá y evaluará el rendimiento de varios modelos de clasificación.\n",
        "\n",
        "##Fuente\n",
        "Este conjunto de datos proporciona información detallada sobre los clientes bancarios, incluyendo variables como la edad, el tipo de empleo, el estado civil, la educación, el balance de la cuenta, la existencia de deudas y préstamos, y otros factores relacionados con las campañas de marketing telefónicas. Estos datos permitirán realizar un análisis exhaustivo y construir un modelo predictivo robusto para mejorar la eficacia de las campañas de marketing.\n",
        "\n",
        "Los datos utilizados en este trabajo fueron obtenidos de Kaggle y se encuentran disponibles en el siguiente enlace: \\\n",
        "https://drive.google.com/file/d/1QhSafuYhsHVlWat5zCpLAEYXlnioOAw3/view?usp=drive_link \\\n",
        "o a través de: \\\n",
        "https://github.com/LeanMBG/coder_ds/tree/main"
      ],
      "metadata": {
        "id": "wbCYkW3k_vnN"
      }
    },
    {
      "cell_type": "markdown",
      "source": [
        "## Importación de Librerías y Carga de Datos\n"
      ],
      "metadata": {
        "id": "p1M16VNiDF07"
      }
    },
    {
      "cell_type": "code",
      "source": [
        "\n",
        "from google.colab import drive\n",
        "drive.mount('/content/drive')\n",
        "\n",
        "### Importando librerias para manipular datos\n",
        "import pandas as pd\n",
        "import numpy  as np\n",
        "\n",
        "df = pd.read_csv('/content/drive/MyDrive/train.csv')\n"
      ],
      "metadata": {
        "colab": {
          "base_uri": "https://localhost:8080/"
        },
        "id": "v0WUDC9V_xFo",
        "outputId": "b8c33a89-1a9d-4606-fbb0-cf28c22d5734"
      },
      "execution_count": 1,
      "outputs": [
        {
          "output_type": "stream",
          "name": "stdout",
          "text": [
            "Drive already mounted at /content/drive; to attempt to forcibly remount, call drive.mount(\"/content/drive\", force_remount=True).\n"
          ]
        }
      ]
    },
    {
      "cell_type": "markdown",
      "source": [
        "## Exploración de Datos"
      ],
      "metadata": {
        "id": "EE1T-O43KVwu"
      }
    },
    {
      "cell_type": "markdown",
      "source": [
        "En esta sección, exploramos el conjunto de datos para comprender sus características y distribuciones. Esto nos ayudará a identificar patrones y relaciones entre las variables.\n",
        "\n",
        "- Resumen Inicial: Mostrar las primeras filas del DataFrame y obtener una vista previa de los datos.\n",
        "- Estadísticas Descriptivas: Calcular estadísticas descriptivas como media, mediana, desviación estándar, etc.\n",
        "- Distribuciones: Visualizar las distribuciones de las variables numéricas y categóricas.\n",
        "- Gráficos Exploratorios: Crear gráficos como histogramas, diagramas de dispersión, y diagramas de caja para explorar los datos."
      ],
      "metadata": {
        "id": "pwi2CyTJKcic"
      }
    },
    {
      "cell_type": "code",
      "source": [
        "df.info()"
      ],
      "metadata": {
        "colab": {
          "base_uri": "https://localhost:8080/"
        },
        "id": "vMwS-ey6KcOa",
        "outputId": "32e6eb42-25fb-48d9-ff14-efac99b430d3"
      },
      "execution_count": 2,
      "outputs": [
        {
          "output_type": "stream",
          "name": "stdout",
          "text": [
            "<class 'pandas.core.frame.DataFrame'>\n",
            "RangeIndex: 45211 entries, 0 to 45210\n",
            "Data columns (total 1 columns):\n",
            " #   Column                                                                                                                Non-Null Count  Dtype \n",
            "---  ------                                                                                                                --------------  ----- \n",
            " 0   age;job;marital;education;default;balance;housing;loan;contact;day;month;duration;campaign;pdays;previous;poutcome;y  45211 non-null  object\n",
            "dtypes: object(1)\n",
            "memory usage: 353.3+ KB\n"
          ]
        }
      ]
    }
  ]
}